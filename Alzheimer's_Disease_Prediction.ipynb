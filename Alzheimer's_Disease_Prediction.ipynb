{
  "cells": [
    {
      "cell_type": "markdown",
      "metadata": {
        "id": "view-in-github",
        "colab_type": "text"
      },
      "source": [
        "<a href=\"https://colab.research.google.com/github/Sanjay71013/Data_Science_Practice/blob/main/Alzheimer's_Disease_Prediction.ipynb\" target=\"_parent\"><img src=\"https://colab.research.google.com/assets/colab-badge.svg\" alt=\"Open In Colab\"/></a>"
      ]
    },
    {
      "cell_type": "markdown",
      "id": "f8d3c19f",
      "metadata": {
        "id": "f8d3c19f"
      },
      "source": [
        "# <center>Alzheimer's Disease Prediction</center>"
      ]
    },
    {
      "cell_type": "markdown",
      "id": "f6451efc",
      "metadata": {
        "id": "f6451efc"
      },
      "source": [
        "Alzheimer's disease is a progressive neurologic disorder that causes the brain to shrink (atrophy) and brain cells to die. Alzheimer's disease is the most common cause of dementia — a continuous decline in thinking, behavioral and social skills that affects a person's ability to function independently.\n",
        "\n",
        "In this notebook, We are going to predict which class the person belongs to from the below 4 classes. We are going to use MRI scanned images as input for our CNN and predict the output.\n",
        "\n",
        "The data consists of MRI images. The data has four classes of images both in training as well as a testing set:\n",
        "\n",
        "1. Mild Demented\n",
        "\n",
        "2. Moderate Demented\n",
        "\n",
        "3. Non Demented\n",
        "\n",
        "4. Very Mild Demented"
      ]
    },
    {
      "cell_type": "markdown",
      "id": "03e5ad08",
      "metadata": {
        "id": "03e5ad08"
      },
      "source": [
        "# Importing Libraries"
      ]
    },
    {
      "cell_type": "code",
      "source": [
        "pip install -q -U keras-tuner"
      ],
      "metadata": {
        "colab": {
          "base_uri": "https://localhost:8080/"
        },
        "id": "--496MZZmxSX",
        "outputId": "27ae0dc7-36af-4c94-ad73-9349fd857548"
      },
      "id": "--496MZZmxSX",
      "execution_count": null,
      "outputs": [
        {
          "output_type": "stream",
          "name": "stdout",
          "text": [
            "\u001b[?25l\r\u001b[K     |██▌                             | 10 kB 21.4 MB/s eta 0:00:01\r\u001b[K     |█████                           | 20 kB 10.6 MB/s eta 0:00:01\r\u001b[K     |███████▍                        | 30 kB 8.4 MB/s eta 0:00:01\r\u001b[K     |█████████▉                      | 40 kB 3.7 MB/s eta 0:00:01\r\u001b[K     |████████████▎                   | 51 kB 3.7 MB/s eta 0:00:01\r\u001b[K     |██████████████▊                 | 61 kB 4.4 MB/s eta 0:00:01\r\u001b[K     |█████████████████▏              | 71 kB 4.6 MB/s eta 0:00:01\r\u001b[K     |███████████████████▋            | 81 kB 4.8 MB/s eta 0:00:01\r\u001b[K     |██████████████████████          | 92 kB 5.4 MB/s eta 0:00:01\r\u001b[K     |████████████████████████▌       | 102 kB 4.3 MB/s eta 0:00:01\r\u001b[K     |███████████████████████████     | 112 kB 4.3 MB/s eta 0:00:01\r\u001b[K     |█████████████████████████████▍  | 122 kB 4.3 MB/s eta 0:00:01\r\u001b[K     |███████████████████████████████▉| 133 kB 4.3 MB/s eta 0:00:01\r\u001b[K     |████████████████████████████████| 133 kB 4.3 MB/s \n",
            "\u001b[?25h"
          ]
        }
      ]
    },
    {
      "cell_type": "code",
      "execution_count": null,
      "id": "10f4f77b",
      "metadata": {
        "id": "10f4f77b"
      },
      "outputs": [],
      "source": [
        "import tensorflow as tf\n",
        "from tensorflow.keras.preprocessing.image import ImageDataGenerator"
      ]
    },
    {
      "cell_type": "markdown",
      "id": "693fa13f",
      "metadata": {
        "id": "693fa13f"
      },
      "source": [
        "# Image Argumentation"
      ]
    },
    {
      "cell_type": "code",
      "execution_count": null,
      "id": "d308274c",
      "metadata": {
        "id": "d308274c",
        "outputId": "e9c60af1-c6f4-4f99-bcb2-011fb851729c"
      },
      "outputs": [
        {
          "name": "stdout",
          "output_type": "stream",
          "text": [
            "Found 5121 images belonging to 4 classes.\n"
          ]
        }
      ],
      "source": [
        "train_datagen = ImageDataGenerator(\n",
        "                    rescale = 1/255,\n",
        "                    shear_range = 0.2,\n",
        "                    zoom_range = 0.2,\n",
        "                    horizontal_flip = True,\n",
        "                    vertical_flip = False)\n",
        "training_set = train_datagen.flow_from_directory('./Alzheimer_s Dataset/train',\n",
        "                                                 target_size = (64, 64),\n",
        "                                                 class_mode = 'categorical')"
      ]
    },
    {
      "cell_type": "code",
      "execution_count": null,
      "id": "d0e30942",
      "metadata": {
        "id": "d0e30942",
        "outputId": "3bff4609-5a8f-470a-a158-3be364984933"
      },
      "outputs": [
        {
          "name": "stdout",
          "output_type": "stream",
          "text": [
            "Found 1279 images belonging to 4 classes.\n"
          ]
        }
      ],
      "source": [
        "test_datagen = ImageDataGenerator(rescale = 1/255)\n",
        "test_set = test_datagen.flow_from_directory('./Alzheimer_s Dataset/test',\n",
        "                                            target_size = (64, 64),\n",
        "                                            class_mode = 'categorical')"
      ]
    },
    {
      "cell_type": "code",
      "execution_count": null,
      "id": "d309d8a5",
      "metadata": {
        "id": "d309d8a5",
        "outputId": "35793342-55f4-431d-b2b9-01932e626283"
      },
      "outputs": [
        {
          "data": {
            "text/plain": [
              "{'MildDemented': 0,\n",
              " 'ModerateDemented': 1,\n",
              " 'NonDemented': 2,\n",
              " 'VeryMildDemented': 3}"
            ]
          },
          "execution_count": 4,
          "metadata": {},
          "output_type": "execute_result"
        }
      ],
      "source": [
        "training_set.class_indices"
      ]
    },
    {
      "cell_type": "markdown",
      "id": "57fafcb2",
      "metadata": {
        "id": "57fafcb2"
      },
      "source": [
        "# Building the CNN"
      ]
    },
    {
      "cell_type": "markdown",
      "id": "ccbaacd9",
      "metadata": {
        "id": "ccbaacd9"
      },
      "source": [
        "## Importing the Libraries"
      ]
    },
    {
      "cell_type": "code",
      "execution_count": null,
      "id": "48db679b",
      "metadata": {
        "id": "48db679b"
      },
      "outputs": [],
      "source": [
        "from tensorflow.keras.models import Sequential\n",
        "from tensorflow.keras.layers import Convolution2D, MaxPooling2D, Flatten, Dense"
      ]
    },
    {
      "cell_type": "markdown",
      "id": "0e20becd",
      "metadata": {
        "id": "0e20becd"
      },
      "source": [
        "## Initialising the CNN"
      ]
    },
    {
      "cell_type": "code",
      "execution_count": null,
      "id": "d4215fc2",
      "metadata": {
        "id": "d4215fc2"
      },
      "outputs": [],
      "source": [
        "cnn = Sequential()"
      ]
    },
    {
      "cell_type": "markdown",
      "id": "651de7ae",
      "metadata": {
        "id": "651de7ae"
      },
      "source": [
        "## Step 1 - Convolution"
      ]
    },
    {
      "cell_type": "code",
      "execution_count": null,
      "id": "4ef82107",
      "metadata": {
        "id": "4ef82107"
      },
      "outputs": [],
      "source": [
        "cnn.add(Convolution2D(filters=32, kernel_size=3, activation='relu', input_shape=(64,64,3)))"
      ]
    },
    {
      "cell_type": "markdown",
      "id": "7b6707c6",
      "metadata": {
        "id": "7b6707c6"
      },
      "source": [
        "## Step 2 - Pooling"
      ]
    },
    {
      "cell_type": "code",
      "execution_count": null,
      "id": "66d4d6ce",
      "metadata": {
        "id": "66d4d6ce"
      },
      "outputs": [],
      "source": [
        "cnn.add(MaxPooling2D(pool_size=(2,2)))"
      ]
    },
    {
      "cell_type": "markdown",
      "id": "9d4aaa3e",
      "metadata": {
        "id": "9d4aaa3e"
      },
      "source": [
        "## Adding a second convolutional layer"
      ]
    },
    {
      "cell_type": "code",
      "execution_count": null,
      "id": "bf20e068",
      "metadata": {
        "id": "bf20e068"
      },
      "outputs": [],
      "source": [
        "cnn.add(Convolution2D(filters=32, kernel_size=3, activation='relu'))\n",
        "cnn.add(MaxPooling2D(pool_size=(2,2)))"
      ]
    },
    {
      "cell_type": "markdown",
      "id": "7cc1534a",
      "metadata": {
        "id": "7cc1534a"
      },
      "source": [
        "## Step 3 - Flattening"
      ]
    },
    {
      "cell_type": "code",
      "execution_count": null,
      "id": "8494a6e2",
      "metadata": {
        "id": "8494a6e2"
      },
      "outputs": [],
      "source": [
        "cnn.add(Flatten())"
      ]
    },
    {
      "cell_type": "markdown",
      "id": "3ee97b93",
      "metadata": {
        "id": "3ee97b93"
      },
      "source": [
        "## Step 4 - Adding Hidden Layers"
      ]
    },
    {
      "cell_type": "code",
      "execution_count": null,
      "id": "16017d75",
      "metadata": {
        "id": "16017d75"
      },
      "outputs": [],
      "source": [
        "from tensorflow.keras.layers import Dropout"
      ]
    },
    {
      "cell_type": "code",
      "execution_count": null,
      "id": "79eb6630",
      "metadata": {
        "id": "79eb6630"
      },
      "outputs": [],
      "source": [
        "## Hidden Layer-1\n",
        "cnn.add(Dense(units=256, activation='relu'))\n",
        "## Adding a Dropout Layer\n",
        "cnn.add(Dropout(0.3))\n",
        "## Hidden Layer-2\n",
        "cnn.add(Dense(units=128, activation='relu'))"
      ]
    },
    {
      "cell_type": "markdown",
      "id": "09423e3a",
      "metadata": {
        "id": "09423e3a"
      },
      "source": [
        "## Step 5 - Output Layer"
      ]
    },
    {
      "cell_type": "code",
      "execution_count": null,
      "id": "b667386f",
      "metadata": {
        "id": "b667386f"
      },
      "outputs": [],
      "source": [
        "cnn.add(Dense(units=4, activation='softmax'))"
      ]
    },
    {
      "cell_type": "markdown",
      "id": "befc1432",
      "metadata": {
        "id": "befc1432"
      },
      "source": [
        "# Training the CNN"
      ]
    },
    {
      "cell_type": "markdown",
      "id": "f152af7e",
      "metadata": {
        "id": "f152af7e"
      },
      "source": [
        "## Compiling the CNN"
      ]
    },
    {
      "cell_type": "code",
      "execution_count": null,
      "id": "aceb3617",
      "metadata": {
        "id": "aceb3617"
      },
      "outputs": [],
      "source": [
        "cnn.compile(optimizer = 'adam', loss = 'categorical_crossentropy', metrics = ['accuracy'])"
      ]
    },
    {
      "cell_type": "markdown",
      "id": "66af3da4",
      "metadata": {
        "id": "66af3da4"
      },
      "source": [
        "### Early Stopping"
      ]
    },
    {
      "cell_type": "code",
      "execution_count": null,
      "id": "130e8c64",
      "metadata": {
        "id": "130e8c64"
      },
      "outputs": [],
      "source": [
        "early_stopping = tf.keras.callbacks.EarlyStopping(\n",
        "    monitor=\"val_loss\",\n",
        "    min_delta=0.0001,\n",
        "    patience=20,\n",
        "    verbose=1,\n",
        "    mode=\"auto\",\n",
        "    baseline=None,\n",
        "    restore_best_weights=False,\n",
        ")"
      ]
    },
    {
      "cell_type": "markdown",
      "id": "21aeab98",
      "metadata": {
        "id": "21aeab98"
      },
      "source": [
        "## Training the CNN on the Training set and evaluating it on the Test set"
      ]
    },
    {
      "cell_type": "code",
      "execution_count": null,
      "id": "5c289444",
      "metadata": {
        "scrolled": false,
        "id": "5c289444",
        "outputId": "d8de2214-4ee9-406e-cf7f-72ebc27b6281"
      },
      "outputs": [
        {
          "name": "stderr",
          "output_type": "stream",
          "text": [
            "C:\\Users\\sanja\\AppData\\Local\\Temp/ipykernel_7240/59579697.py:1: UserWarning: `Model.fit_generator` is deprecated and will be removed in a future version. Please use `Model.fit`, which supports generators.\n",
            "  cnn.fit_generator(training_set, steps_per_epoch= len(training_set), validation_data = test_set, validation_steps=len(test_set), epochs = 200, callbacks = early_stopping)\n"
          ]
        },
        {
          "name": "stdout",
          "output_type": "stream",
          "text": [
            "Epoch 1/200\n",
            "161/161 [==============================] - 83s 507ms/step - loss: 1.0356 - accuracy: 0.4870 - val_loss: 1.0387 - val_accuracy: 0.5082\n",
            "Epoch 2/200\n",
            "161/161 [==============================] - 36s 224ms/step - loss: 0.9106 - accuracy: 0.5554 - val_loss: 1.0329 - val_accuracy: 0.5285\n",
            "Epoch 3/200\n",
            "161/161 [==============================] - 36s 226ms/step - loss: 0.8762 - accuracy: 0.5708 - val_loss: 1.0677 - val_accuracy: 0.5403\n",
            "Epoch 4/200\n",
            "161/161 [==============================] - 39s 243ms/step - loss: 0.8436 - accuracy: 0.5839 - val_loss: 0.9041 - val_accuracy: 0.5700\n",
            "Epoch 5/200\n",
            "161/161 [==============================] - 57s 354ms/step - loss: 0.8132 - accuracy: 0.6003 - val_loss: 1.0515 - val_accuracy: 0.5661\n",
            "Epoch 6/200\n",
            "161/161 [==============================] - 61s 377ms/step - loss: 0.7780 - accuracy: 0.6292 - val_loss: 1.0303 - val_accuracy: 0.5676\n",
            "Epoch 7/200\n",
            "161/161 [==============================] - 34s 210ms/step - loss: 0.7676 - accuracy: 0.6302 - val_loss: 1.1437 - val_accuracy: 0.5496\n",
            "Epoch 8/200\n",
            "161/161 [==============================] - 33s 207ms/step - loss: 0.7368 - accuracy: 0.6464 - val_loss: 1.0545 - val_accuracy: 0.5739\n",
            "Epoch 9/200\n",
            "161/161 [==============================] - 34s 210ms/step - loss: 0.6951 - accuracy: 0.6723 - val_loss: 1.0941 - val_accuracy: 0.5575\n",
            "Epoch 10/200\n",
            "161/161 [==============================] - 35s 217ms/step - loss: 0.6610 - accuracy: 0.6901 - val_loss: 0.9752 - val_accuracy: 0.5551\n",
            "Epoch 11/200\n",
            "161/161 [==============================] - 35s 219ms/step - loss: 0.6372 - accuracy: 0.7067 - val_loss: 1.0253 - val_accuracy: 0.5512\n",
            "Epoch 12/200\n",
            "161/161 [==============================] - 34s 211ms/step - loss: 0.6201 - accuracy: 0.7149 - val_loss: 0.9651 - val_accuracy: 0.5817\n",
            "Epoch 13/200\n",
            "161/161 [==============================] - 36s 223ms/step - loss: 0.5714 - accuracy: 0.7387 - val_loss: 1.0615 - val_accuracy: 0.5387\n",
            "Epoch 14/200\n",
            "161/161 [==============================] - 34s 211ms/step - loss: 0.5610 - accuracy: 0.7432 - val_loss: 1.0189 - val_accuracy: 0.5543\n",
            "Epoch 15/200\n",
            "161/161 [==============================] - 34s 213ms/step - loss: 0.5245 - accuracy: 0.7651 - val_loss: 1.1117 - val_accuracy: 0.5520\n",
            "Epoch 16/200\n",
            "161/161 [==============================] - 35s 215ms/step - loss: 0.4959 - accuracy: 0.7770 - val_loss: 1.0361 - val_accuracy: 0.6091\n",
            "Epoch 17/200\n",
            "161/161 [==============================] - 35s 216ms/step - loss: 0.4540 - accuracy: 0.8014 - val_loss: 1.3593 - val_accuracy: 0.5676\n",
            "Epoch 18/200\n",
            "161/161 [==============================] - 35s 215ms/step - loss: 0.4359 - accuracy: 0.8174 - val_loss: 1.0854 - val_accuracy: 0.6185\n",
            "Epoch 19/200\n",
            "161/161 [==============================] - 35s 214ms/step - loss: 0.4005 - accuracy: 0.8299 - val_loss: 1.4460 - val_accuracy: 0.6013\n",
            "Epoch 20/200\n",
            "161/161 [==============================] - 35s 220ms/step - loss: 0.3824 - accuracy: 0.8434 - val_loss: 1.2449 - val_accuracy: 0.6208\n",
            "Epoch 21/200\n",
            "161/161 [==============================] - 39s 244ms/step - loss: 0.3502 - accuracy: 0.8537 - val_loss: 1.1969 - val_accuracy: 0.6317\n",
            "Epoch 22/200\n",
            "161/161 [==============================] - 37s 230ms/step - loss: 0.3208 - accuracy: 0.8733 - val_loss: 1.1311 - val_accuracy: 0.5950\n",
            "Epoch 23/200\n",
            "161/161 [==============================] - 35s 219ms/step - loss: 0.3077 - accuracy: 0.8766 - val_loss: 1.2447 - val_accuracy: 0.6396\n",
            "Epoch 24/200\n",
            "161/161 [==============================] - 36s 221ms/step - loss: 0.2906 - accuracy: 0.8840 - val_loss: 1.6190 - val_accuracy: 0.5856\n",
            "Epoch 24: early stopping\n"
          ]
        },
        {
          "data": {
            "text/plain": [
              "<keras.callbacks.History at 0x2cfb0930700>"
            ]
          },
          "execution_count": 18,
          "metadata": {},
          "output_type": "execute_result"
        }
      ],
      "source": [
        "cnn.fit_generator(training_set, steps_per_epoch= len(training_set), validation_data = test_set, validation_steps=len(test_set), epochs = 200, callbacks = early_stopping)"
      ]
    },
    {
      "cell_type": "markdown",
      "id": "50eb25ed",
      "metadata": {
        "id": "50eb25ed"
      },
      "source": [
        "# Saving the Model"
      ]
    },
    {
      "cell_type": "code",
      "execution_count": null,
      "id": "ed7e4c73",
      "metadata": {
        "id": "ed7e4c73"
      },
      "outputs": [],
      "source": [
        "cnn.save('alzheimer.h5')"
      ]
    },
    {
      "cell_type": "markdown",
      "id": "ffdacd68",
      "metadata": {
        "id": "ffdacd68"
      },
      "source": [
        "# Making Single prediction"
      ]
    },
    {
      "cell_type": "markdown",
      "id": "891a71dc",
      "metadata": {
        "id": "891a71dc"
      },
      "source": [
        "## Prediction - 1"
      ]
    },
    {
      "cell_type": "code",
      "execution_count": null,
      "id": "a1b3d7d1",
      "metadata": {
        "id": "a1b3d7d1"
      },
      "outputs": [],
      "source": [
        "from keras_preprocessing.image.utils import load_img\n",
        "import numpy as np\n",
        "from keras.preprocessing import image"
      ]
    },
    {
      "cell_type": "code",
      "execution_count": null,
      "id": "fdda3407",
      "metadata": {
        "id": "fdda3407",
        "outputId": "229dfd82-3232-42fb-f961-ba98c5fef357"
      },
      "outputs": [
        {
          "data": {
            "image/png": "[encoded data removed]",
            "text/plain": [
              "<PIL.Image.Image image mode=RGB size=64x64 at 0x2CFB1267E80>"
            ]
          },
          "execution_count": 21,
          "metadata": {},
          "output_type": "execute_result"
        }
      ],
      "source": [
        "img = image.load_img('./Alzheimer_s Dataset/test/ModerateDemented/27 (2).jpg', target_size=(64,64))\n",
        "img"
      ]
    },
    {
      "cell_type": "code",
      "execution_count": null,
      "id": "e9bc9b84",
      "metadata": {
        "id": "e9bc9b84",
        "outputId": "f99fec29-cdaf-498b-b915-35e106b36321"
      },
      "outputs": [
        {
          "name": "stdout",
          "output_type": "stream",
          "text": [
            "[[[0. 0. 0.]\n",
            "  [0. 0. 0.]\n",
            "  [0. 0. 0.]\n",
            "  ...\n",
            "  [0. 0. 0.]\n",
            "  [0. 0. 0.]\n",
            "  [0. 0. 0.]]\n",
            "\n",
            " [[0. 0. 0.]\n",
            "  [0. 0. 0.]\n",
            "  [0. 0. 0.]\n",
            "  ...\n",
            "  [0. 0. 0.]\n",
            "  [0. 0. 0.]\n",
            "  [0. 0. 0.]]\n",
            "\n",
            " [[0. 0. 0.]\n",
            "  [0. 0. 0.]\n",
            "  [0. 0. 0.]\n",
            "  ...\n",
            "  [0. 0. 0.]\n",
            "  [0. 0. 0.]\n",
            "  [0. 0. 0.]]\n",
            "\n",
            " ...\n",
            "\n",
            " [[0. 0. 0.]\n",
            "  [0. 0. 0.]\n",
            "  [0. 0. 0.]\n",
            "  ...\n",
            "  [0. 0. 0.]\n",
            "  [0. 0. 0.]\n",
            "  [0. 0. 0.]]\n",
            "\n",
            " [[0. 0. 0.]\n",
            "  [0. 0. 0.]\n",
            "  [0. 0. 0.]\n",
            "  ...\n",
            "  [0. 0. 0.]\n",
            "  [0. 0. 0.]\n",
            "  [0. 0. 0.]]\n",
            "\n",
            " [[0. 0. 0.]\n",
            "  [0. 0. 0.]\n",
            "  [0. 0. 0.]\n",
            "  ...\n",
            "  [0. 0. 0.]\n",
            "  [0. 0. 0.]\n",
            "  [0. 0. 0.]]]\n"
          ]
        }
      ],
      "source": [
        "x = image.img_to_array(img)\n",
        "print(x)"
      ]
    },
    {
      "cell_type": "code",
      "execution_count": null,
      "id": "725d5baa",
      "metadata": {
        "id": "725d5baa",
        "outputId": "ab122a1b-b459-4729-bd62-f0abe4b66845"
      },
      "outputs": [
        {
          "name": "stdout",
          "output_type": "stream",
          "text": [
            "[[[[0. 0. 0.]\n",
            "   [0. 0. 0.]\n",
            "   [0. 0. 0.]\n",
            "   ...\n",
            "   [0. 0. 0.]\n",
            "   [0. 0. 0.]\n",
            "   [0. 0. 0.]]\n",
            "\n",
            "  [[0. 0. 0.]\n",
            "   [0. 0. 0.]\n",
            "   [0. 0. 0.]\n",
            "   ...\n",
            "   [0. 0. 0.]\n",
            "   [0. 0. 0.]\n",
            "   [0. 0. 0.]]\n",
            "\n",
            "  [[0. 0. 0.]\n",
            "   [0. 0. 0.]\n",
            "   [0. 0. 0.]\n",
            "   ...\n",
            "   [0. 0. 0.]\n",
            "   [0. 0. 0.]\n",
            "   [0. 0. 0.]]\n",
            "\n",
            "  ...\n",
            "\n",
            "  [[0. 0. 0.]\n",
            "   [0. 0. 0.]\n",
            "   [0. 0. 0.]\n",
            "   ...\n",
            "   [0. 0. 0.]\n",
            "   [0. 0. 0.]\n",
            "   [0. 0. 0.]]\n",
            "\n",
            "  [[0. 0. 0.]\n",
            "   [0. 0. 0.]\n",
            "   [0. 0. 0.]\n",
            "   ...\n",
            "   [0. 0. 0.]\n",
            "   [0. 0. 0.]\n",
            "   [0. 0. 0.]]\n",
            "\n",
            "  [[0. 0. 0.]\n",
            "   [0. 0. 0.]\n",
            "   [0. 0. 0.]\n",
            "   ...\n",
            "   [0. 0. 0.]\n",
            "   [0. 0. 0.]\n",
            "   [0. 0. 0.]]]]\n"
          ]
        }
      ],
      "source": [
        "x = np.expand_dims(x,axis=0)\n",
        "print(x)"
      ]
    },
    {
      "cell_type": "code",
      "execution_count": null,
      "id": "311c7e84",
      "metadata": {
        "id": "311c7e84",
        "outputId": "6ff91774-50b7-44c3-ebf1-1d2d3b85bb15"
      },
      "outputs": [
        {
          "data": {
            "text/plain": [
              "array([3], dtype=int64)"
            ]
          },
          "execution_count": 24,
          "metadata": {},
          "output_type": "execute_result"
        }
      ],
      "source": [
        "pred = np.argmax(cnn.predict(x),axis=1)\n",
        "pred"
      ]
    },
    {
      "cell_type": "code",
      "execution_count": null,
      "id": "b8661f58",
      "metadata": {
        "id": "b8661f58"
      },
      "outputs": [],
      "source": [
        "index = ['MildDemented','ModerateDemented','NonDemented','VeryMildDemented']"
      ]
    },
    {
      "cell_type": "code",
      "execution_count": null,
      "id": "0f683100",
      "metadata": {
        "id": "0f683100",
        "outputId": "3970346e-41da-4030-e1b5-822b87fe9cc6"
      },
      "outputs": [
        {
          "data": {
            "text/plain": [
              "'VeryMildDemented'"
            ]
          },
          "execution_count": 26,
          "metadata": {},
          "output_type": "execute_result"
        }
      ],
      "source": [
        "index[pred[0]]"
      ]
    },
    {
      "cell_type": "markdown",
      "id": "9e3b1111",
      "metadata": {
        "id": "9e3b1111"
      },
      "source": [
        "## Prediction -2"
      ]
    },
    {
      "cell_type": "code",
      "execution_count": null,
      "id": "d7d536c8",
      "metadata": {
        "id": "d7d536c8",
        "outputId": "a639444e-8e4b-402a-bdce-852f08fc326b"
      },
      "outputs": [
        {
          "data": {
            "image/png": "[encoded data removed]",
            "text/plain": [
              "<PIL.Image.Image image mode=RGB size=64x64 at 0x2CFB124CFA0>"
            ]
          },
          "execution_count": 27,
          "metadata": {},
          "output_type": "execute_result"
        }
      ],
      "source": [
        "img = image.load_img('./Alzheimer_s Dataset/test/NonDemented/26 (62).jpg', target_size=(64,64))\n",
        "img"
      ]
    },
    {
      "cell_type": "code",
      "execution_count": null,
      "id": "498c56ad",
      "metadata": {
        "id": "498c56ad",
        "outputId": "d2085662-5730-4ec4-978a-1550fd636923"
      },
      "outputs": [
        {
          "name": "stdout",
          "output_type": "stream",
          "text": [
            "[[[0. 0. 0.]\n",
            "  [0. 0. 0.]\n",
            "  [0. 0. 0.]\n",
            "  ...\n",
            "  [0. 0. 0.]\n",
            "  [0. 0. 0.]\n",
            "  [0. 0. 0.]]\n",
            "\n",
            " [[0. 0. 0.]\n",
            "  [0. 0. 0.]\n",
            "  [0. 0. 0.]\n",
            "  ...\n",
            "  [0. 0. 0.]\n",
            "  [0. 0. 0.]\n",
            "  [0. 0. 0.]]\n",
            "\n",
            " [[0. 0. 0.]\n",
            "  [0. 0. 0.]\n",
            "  [0. 0. 0.]\n",
            "  ...\n",
            "  [0. 0. 0.]\n",
            "  [0. 0. 0.]\n",
            "  [0. 0. 0.]]\n",
            "\n",
            " ...\n",
            "\n",
            " [[0. 0. 0.]\n",
            "  [0. 0. 0.]\n",
            "  [0. 0. 0.]\n",
            "  ...\n",
            "  [0. 0. 0.]\n",
            "  [0. 0. 0.]\n",
            "  [0. 0. 0.]]\n",
            "\n",
            " [[0. 0. 0.]\n",
            "  [0. 0. 0.]\n",
            "  [0. 0. 0.]\n",
            "  ...\n",
            "  [0. 0. 0.]\n",
            "  [0. 0. 0.]\n",
            "  [0. 0. 0.]]\n",
            "\n",
            " [[0. 0. 0.]\n",
            "  [0. 0. 0.]\n",
            "  [0. 0. 0.]\n",
            "  ...\n",
            "  [0. 0. 0.]\n",
            "  [0. 0. 0.]\n",
            "  [0. 0. 0.]]]\n"
          ]
        }
      ],
      "source": [
        "x = image.img_to_array(img)\n",
        "print(x)"
      ]
    },
    {
      "cell_type": "code",
      "execution_count": null,
      "id": "dfbc686d",
      "metadata": {
        "id": "dfbc686d",
        "outputId": "c70370df-5ec7-4c15-8641-4c79da7900b7"
      },
      "outputs": [
        {
          "name": "stdout",
          "output_type": "stream",
          "text": [
            "[[[[0. 0. 0.]\n",
            "   [0. 0. 0.]\n",
            "   [0. 0. 0.]\n",
            "   ...\n",
            "   [0. 0. 0.]\n",
            "   [0. 0. 0.]\n",
            "   [0. 0. 0.]]\n",
            "\n",
            "  [[0. 0. 0.]\n",
            "   [0. 0. 0.]\n",
            "   [0. 0. 0.]\n",
            "   ...\n",
            "   [0. 0. 0.]\n",
            "   [0. 0. 0.]\n",
            "   [0. 0. 0.]]\n",
            "\n",
            "  [[0. 0. 0.]\n",
            "   [0. 0. 0.]\n",
            "   [0. 0. 0.]\n",
            "   ...\n",
            "   [0. 0. 0.]\n",
            "   [0. 0. 0.]\n",
            "   [0. 0. 0.]]\n",
            "\n",
            "  ...\n",
            "\n",
            "  [[0. 0. 0.]\n",
            "   [0. 0. 0.]\n",
            "   [0. 0. 0.]\n",
            "   ...\n",
            "   [0. 0. 0.]\n",
            "   [0. 0. 0.]\n",
            "   [0. 0. 0.]]\n",
            "\n",
            "  [[0. 0. 0.]\n",
            "   [0. 0. 0.]\n",
            "   [0. 0. 0.]\n",
            "   ...\n",
            "   [0. 0. 0.]\n",
            "   [0. 0. 0.]\n",
            "   [0. 0. 0.]]\n",
            "\n",
            "  [[0. 0. 0.]\n",
            "   [0. 0. 0.]\n",
            "   [0. 0. 0.]\n",
            "   ...\n",
            "   [0. 0. 0.]\n",
            "   [0. 0. 0.]\n",
            "   [0. 0. 0.]]]]\n"
          ]
        }
      ],
      "source": [
        "x = np.expand_dims(x,axis=0)\n",
        "print(x)"
      ]
    },
    {
      "cell_type": "code",
      "execution_count": null,
      "id": "87398e3d",
      "metadata": {
        "id": "87398e3d",
        "outputId": "88ebb057-3257-4cf9-e697-924806114efd"
      },
      "outputs": [
        {
          "data": {
            "text/plain": [
              "array([2], dtype=int64)"
            ]
          },
          "execution_count": 30,
          "metadata": {},
          "output_type": "execute_result"
        }
      ],
      "source": [
        "pred = np.argmax(cnn.predict(x),axis=1)\n",
        "pred"
      ]
    },
    {
      "cell_type": "code",
      "execution_count": null,
      "id": "ba58fed9",
      "metadata": {
        "id": "ba58fed9"
      },
      "outputs": [],
      "source": [
        "index = ['MildDemented','ModerateDemented','NonDemented','VeryMildDemented']"
      ]
    },
    {
      "cell_type": "code",
      "execution_count": null,
      "id": "da52628e",
      "metadata": {
        "id": "da52628e",
        "outputId": "f63dc32b-aa1c-4abf-9d2c-2fa5073f9140"
      },
      "outputs": [
        {
          "data": {
            "text/plain": [
              "'NonDemented'"
            ]
          },
          "execution_count": 32,
          "metadata": {},
          "output_type": "execute_result"
        }
      ],
      "source": [
        "index[pred[0]]"
      ]
    },
    {
      "cell_type": "markdown",
      "id": "a00f124f",
      "metadata": {
        "id": "a00f124f"
      },
      "source": [
        "## Prediction - 3"
      ]
    },
    {
      "cell_type": "code",
      "execution_count": null,
      "id": "d495fc0f",
      "metadata": {
        "id": "d495fc0f",
        "outputId": "e0c00c75-073a-48c8-c50b-9f091756b2d1"
      },
      "outputs": [
        {
          "data": {
            "image/png": "[encoded data removed]",
            "text/plain": [
              "<PIL.Image.Image image mode=RGB size=64x64 at 0x2CFB06EDCD0>"
            ]
          },
          "execution_count": 33,
          "metadata": {},
          "output_type": "execute_result"
        }
      ],
      "source": [
        "img = image.load_img('./Alzheimer_s Dataset/test/VeryMildDemented/26 (59).jpg', target_size=(64,64))\n",
        "img"
      ]
    },
    {
      "cell_type": "code",
      "execution_count": null,
      "id": "1b333620",
      "metadata": {
        "id": "1b333620",
        "outputId": "b4d6a2a9-81bd-4023-88cf-6ab7c1c53a5f"
      },
      "outputs": [
        {
          "name": "stdout",
          "output_type": "stream",
          "text": [
            "[[[0. 0. 0.]\n",
            "  [0. 0. 0.]\n",
            "  [0. 0. 0.]\n",
            "  ...\n",
            "  [0. 0. 0.]\n",
            "  [0. 0. 0.]\n",
            "  [0. 0. 0.]]\n",
            "\n",
            " [[0. 0. 0.]\n",
            "  [0. 0. 0.]\n",
            "  [0. 0. 0.]\n",
            "  ...\n",
            "  [0. 0. 0.]\n",
            "  [0. 0. 0.]\n",
            "  [0. 0. 0.]]\n",
            "\n",
            " [[0. 0. 0.]\n",
            "  [0. 0. 0.]\n",
            "  [0. 0. 0.]\n",
            "  ...\n",
            "  [0. 0. 0.]\n",
            "  [0. 0. 0.]\n",
            "  [0. 0. 0.]]\n",
            "\n",
            " ...\n",
            "\n",
            " [[0. 0. 0.]\n",
            "  [0. 0. 0.]\n",
            "  [0. 0. 0.]\n",
            "  ...\n",
            "  [0. 0. 0.]\n",
            "  [0. 0. 0.]\n",
            "  [0. 0. 0.]]\n",
            "\n",
            " [[0. 0. 0.]\n",
            "  [0. 0. 0.]\n",
            "  [0. 0. 0.]\n",
            "  ...\n",
            "  [0. 0. 0.]\n",
            "  [0. 0. 0.]\n",
            "  [0. 0. 0.]]\n",
            "\n",
            " [[0. 0. 0.]\n",
            "  [0. 0. 0.]\n",
            "  [0. 0. 0.]\n",
            "  ...\n",
            "  [0. 0. 0.]\n",
            "  [0. 0. 0.]\n",
            "  [0. 0. 0.]]]\n"
          ]
        }
      ],
      "source": [
        "x = image.img_to_array(img)\n",
        "print(x)"
      ]
    },
    {
      "cell_type": "code",
      "execution_count": null,
      "id": "c5c09259",
      "metadata": {
        "id": "c5c09259",
        "outputId": "3b3a8b01-2e3b-44f0-e200-fc893fd47af9"
      },
      "outputs": [
        {
          "name": "stdout",
          "output_type": "stream",
          "text": [
            "[[[[0. 0. 0.]\n",
            "   [0. 0. 0.]\n",
            "   [0. 0. 0.]\n",
            "   ...\n",
            "   [0. 0. 0.]\n",
            "   [0. 0. 0.]\n",
            "   [0. 0. 0.]]\n",
            "\n",
            "  [[0. 0. 0.]\n",
            "   [0. 0. 0.]\n",
            "   [0. 0. 0.]\n",
            "   ...\n",
            "   [0. 0. 0.]\n",
            "   [0. 0. 0.]\n",
            "   [0. 0. 0.]]\n",
            "\n",
            "  [[0. 0. 0.]\n",
            "   [0. 0. 0.]\n",
            "   [0. 0. 0.]\n",
            "   ...\n",
            "   [0. 0. 0.]\n",
            "   [0. 0. 0.]\n",
            "   [0. 0. 0.]]\n",
            "\n",
            "  ...\n",
            "\n",
            "  [[0. 0. 0.]\n",
            "   [0. 0. 0.]\n",
            "   [0. 0. 0.]\n",
            "   ...\n",
            "   [0. 0. 0.]\n",
            "   [0. 0. 0.]\n",
            "   [0. 0. 0.]]\n",
            "\n",
            "  [[0. 0. 0.]\n",
            "   [0. 0. 0.]\n",
            "   [0. 0. 0.]\n",
            "   ...\n",
            "   [0. 0. 0.]\n",
            "   [0. 0. 0.]\n",
            "   [0. 0. 0.]]\n",
            "\n",
            "  [[0. 0. 0.]\n",
            "   [0. 0. 0.]\n",
            "   [0. 0. 0.]\n",
            "   ...\n",
            "   [0. 0. 0.]\n",
            "   [0. 0. 0.]\n",
            "   [0. 0. 0.]]]]\n"
          ]
        }
      ],
      "source": [
        "x = np.expand_dims(x,axis=0)\n",
        "print(x)"
      ]
    },
    {
      "cell_type": "code",
      "execution_count": null,
      "id": "9c74d2e4",
      "metadata": {
        "id": "9c74d2e4",
        "outputId": "e551c673-1ac3-42a3-d116-84a1dcc3def0"
      },
      "outputs": [
        {
          "data": {
            "text/plain": [
              "array([3], dtype=int64)"
            ]
          },
          "execution_count": 36,
          "metadata": {},
          "output_type": "execute_result"
        }
      ],
      "source": [
        "pred = np.argmax(cnn.predict(x),axis=1)\n",
        "pred"
      ]
    },
    {
      "cell_type": "code",
      "execution_count": null,
      "id": "025f7058",
      "metadata": {
        "id": "025f7058"
      },
      "outputs": [],
      "source": [
        "index = ['MildDemented','ModerateDemented','NonDemented','VeryMildDemented']"
      ]
    },
    {
      "cell_type": "code",
      "execution_count": null,
      "id": "1aad46ff",
      "metadata": {
        "id": "1aad46ff",
        "outputId": "48fb1c8f-3698-469c-8e44-c24df66ba9a7"
      },
      "outputs": [
        {
          "data": {
            "text/plain": [
              "'VeryMildDemented'"
            ]
          },
          "execution_count": 38,
          "metadata": {},
          "output_type": "execute_result"
        }
      ],
      "source": [
        "index[pred[0]]"
      ]
    },
    {
      "cell_type": "markdown",
      "id": "9ccd613a",
      "metadata": {
        "id": "9ccd613a"
      },
      "source": [
        "## Prediction - 4"
      ]
    },
    {
      "cell_type": "code",
      "execution_count": null,
      "id": "0df564e4",
      "metadata": {
        "id": "0df564e4",
        "outputId": "5d1aa954-00bf-43f6-968e-b627d7dfecee"
      },
      "outputs": [
        {
          "data": {
            "image/png": "[encoded data removed]",
            "text/plain": [
              "<PIL.Image.Image image mode=RGB size=64x64 at 0x2CFB129C9A0>"
            ]
          },
          "execution_count": 39,
          "metadata": {},
          "output_type": "execute_result"
        }
      ],
      "source": [
        "img = image.load_img('./Alzheimer_s Dataset/test/MildDemented/27 (20).jpg', target_size=(64,64))\n",
        "img"
      ]
    },
    {
      "cell_type": "code",
      "execution_count": null,
      "id": "1db994b2",
      "metadata": {
        "id": "1db994b2",
        "outputId": "4be71e8d-446c-42f5-cd4c-e9cc90906dc9"
      },
      "outputs": [
        {
          "name": "stdout",
          "output_type": "stream",
          "text": [
            "[[[0. 0. 0.]\n",
            "  [0. 0. 0.]\n",
            "  [0. 0. 0.]\n",
            "  ...\n",
            "  [0. 0. 0.]\n",
            "  [0. 0. 0.]\n",
            "  [0. 0. 0.]]\n",
            "\n",
            " [[0. 0. 0.]\n",
            "  [0. 0. 0.]\n",
            "  [0. 0. 0.]\n",
            "  ...\n",
            "  [0. 0. 0.]\n",
            "  [0. 0. 0.]\n",
            "  [0. 0. 0.]]\n",
            "\n",
            " [[0. 0. 0.]\n",
            "  [0. 0. 0.]\n",
            "  [0. 0. 0.]\n",
            "  ...\n",
            "  [0. 0. 0.]\n",
            "  [0. 0. 0.]\n",
            "  [0. 0. 0.]]\n",
            "\n",
            " ...\n",
            "\n",
            " [[0. 0. 0.]\n",
            "  [0. 0. 0.]\n",
            "  [0. 0. 0.]\n",
            "  ...\n",
            "  [0. 0. 0.]\n",
            "  [0. 0. 0.]\n",
            "  [0. 0. 0.]]\n",
            "\n",
            " [[0. 0. 0.]\n",
            "  [0. 0. 0.]\n",
            "  [0. 0. 0.]\n",
            "  ...\n",
            "  [0. 0. 0.]\n",
            "  [0. 0. 0.]\n",
            "  [0. 0. 0.]]\n",
            "\n",
            " [[0. 0. 0.]\n",
            "  [0. 0. 0.]\n",
            "  [0. 0. 0.]\n",
            "  ...\n",
            "  [0. 0. 0.]\n",
            "  [0. 0. 0.]\n",
            "  [0. 0. 0.]]]\n"
          ]
        }
      ],
      "source": [
        "x = image.img_to_array(img)\n",
        "print(x)"
      ]
    },
    {
      "cell_type": "code",
      "execution_count": null,
      "id": "8b9ad373",
      "metadata": {
        "id": "8b9ad373",
        "outputId": "63250789-9995-44c8-8a2e-31a719ec361c"
      },
      "outputs": [
        {
          "name": "stdout",
          "output_type": "stream",
          "text": [
            "[[[[0. 0. 0.]\n",
            "   [0. 0. 0.]\n",
            "   [0. 0. 0.]\n",
            "   ...\n",
            "   [0. 0. 0.]\n",
            "   [0. 0. 0.]\n",
            "   [0. 0. 0.]]\n",
            "\n",
            "  [[0. 0. 0.]\n",
            "   [0. 0. 0.]\n",
            "   [0. 0. 0.]\n",
            "   ...\n",
            "   [0. 0. 0.]\n",
            "   [0. 0. 0.]\n",
            "   [0. 0. 0.]]\n",
            "\n",
            "  [[0. 0. 0.]\n",
            "   [0. 0. 0.]\n",
            "   [0. 0. 0.]\n",
            "   ...\n",
            "   [0. 0. 0.]\n",
            "   [0. 0. 0.]\n",
            "   [0. 0. 0.]]\n",
            "\n",
            "  ...\n",
            "\n",
            "  [[0. 0. 0.]\n",
            "   [0. 0. 0.]\n",
            "   [0. 0. 0.]\n",
            "   ...\n",
            "   [0. 0. 0.]\n",
            "   [0. 0. 0.]\n",
            "   [0. 0. 0.]]\n",
            "\n",
            "  [[0. 0. 0.]\n",
            "   [0. 0. 0.]\n",
            "   [0. 0. 0.]\n",
            "   ...\n",
            "   [0. 0. 0.]\n",
            "   [0. 0. 0.]\n",
            "   [0. 0. 0.]]\n",
            "\n",
            "  [[0. 0. 0.]\n",
            "   [0. 0. 0.]\n",
            "   [0. 0. 0.]\n",
            "   ...\n",
            "   [0. 0. 0.]\n",
            "   [0. 0. 0.]\n",
            "   [0. 0. 0.]]]]\n"
          ]
        }
      ],
      "source": [
        "x = np.expand_dims(x,axis=0)\n",
        "print(x)"
      ]
    },
    {
      "cell_type": "code",
      "execution_count": null,
      "id": "282b653c",
      "metadata": {
        "id": "282b653c",
        "outputId": "2c054c42-afc4-4078-df84-8885ec119fe6"
      },
      "outputs": [
        {
          "data": {
            "text/plain": [
              "array([3], dtype=int64)"
            ]
          },
          "execution_count": 42,
          "metadata": {},
          "output_type": "execute_result"
        }
      ],
      "source": [
        "pred = np.argmax(cnn.predict(x),axis=1)\n",
        "pred"
      ]
    },
    {
      "cell_type": "code",
      "execution_count": null,
      "id": "01b67089",
      "metadata": {
        "id": "01b67089"
      },
      "outputs": [],
      "source": [
        "index = ['MildDemented','ModerateDemented','NonDemented','VeryMildDemented'] "
      ]
    },
    {
      "cell_type": "code",
      "execution_count": null,
      "id": "59738194",
      "metadata": {
        "id": "59738194",
        "outputId": "cac4ebff-8e01-4232-d2a7-9e6b097e8ace"
      },
      "outputs": [
        {
          "data": {
            "text/plain": [
              "'VeryMildDemented'"
            ]
          },
          "execution_count": 44,
          "metadata": {},
          "output_type": "execute_result"
        }
      ],
      "source": [
        "index[pred[0]]"
      ]
    }
  ],
  "metadata": {
    "kernelspec": {
      "display_name": "Python 3 (ipykernel)",
      "language": "python",
      "name": "python3"
    },
    "language_info": {
      "codemirror_mode": {
        "name": "ipython",
        "version": 3
      },
      "file_extension": ".py",
      "mimetype": "text/x-python",
      "name": "python",
      "nbconvert_exporter": "python",
      "pygments_lexer": "ipython3",
      "version": "3.9.7"
    },
    "colab": {
      "name": "Alzheimer's Disease Prediction.ipynb",
      "provenance": [],
      "collapsed_sections": [],
      "include_colab_link": true
    },
    "accelerator": "GPU"
  },
  "nbformat": 4,
  "nbformat_minor": 5
}